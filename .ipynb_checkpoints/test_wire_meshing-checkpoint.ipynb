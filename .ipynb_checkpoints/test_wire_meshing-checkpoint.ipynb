{
 "cells": [
  {
   "cell_type": "code",
   "execution_count": 1,
   "id": "c8e5bdef",
   "metadata": {},
   "outputs": [],
   "source": [
    "from wire_mesh import WireMesh\n",
    "from wire import Wire\n",
    "import numpy as np\n",
    "import pymesh"
   ]
  },
  {
   "cell_type": "code",
   "execution_count": 2,
   "id": "e907f5e8",
   "metadata": {},
   "outputs": [],
   "source": [
    "filename = \"prototype_double_cos_coil/coil1/wires/wire1.txt\"\n",
    "# filename = \"prototype_double_cos_coil/mirror_coil1/wires/wire1.txt\"\n",
    "wire_1 = Wire(file_name=filename)"
   ]
  },
  {
   "cell_type": "code",
   "execution_count": 3,
   "id": "ed3ed656",
   "metadata": {},
   "outputs": [],
   "source": [
    "wire_mesh = WireMesh(wire_1)"
   ]
  },
  {
   "cell_type": "code",
   "execution_count": 4,
   "id": "f95b5e2a",
   "metadata": {},
   "outputs": [
    {
     "data": {
      "text/plain": [
       "array([[ 0.5065688 ,  0.50583846,  0.50485332,  0.50367266,  0.50238963,\n",
       "         0.50116127,  0.50010647,  0.4984052 ,  0.49744931,  0.49559339],\n",
       "       [ 0.        ,  0.00179604,  0.0029004 ,  0.00377295,  0.00450005,\n",
       "         0.00504936,  0.00546569,  0.00602538,  0.00629299,  0.00673117],\n",
       "       [-0.035     , -0.03495049, -0.03487942, -0.03479505, -0.03470941,\n",
       "        -0.03463139, -0.0345689 , -0.03447552, -0.03442901, -0.03434371]])"
      ]
     },
     "execution_count": 4,
     "metadata": {},
     "output_type": "execute_result"
    }
   ],
   "source": [
    "wire_mesh.wire.points[:,:10]"
   ]
  },
  {
   "cell_type": "code",
   "execution_count": 6,
   "id": "a92d27c6",
   "metadata": {},
   "outputs": [],
   "source": [
    "output_file = \"test_wire_mesh.obj\"\n",
    "wire_mesh.save_mesh(output_file)\n",
    "# pymesh.save_mesh(output_file, wire_mesh.mesh)"
   ]
  },
  {
   "cell_type": "code",
   "execution_count": 9,
   "id": "20a79dd9",
   "metadata": {},
   "outputs": [],
   "source": [
    "mesh_1 = pymesh.form_mesh(wire_mesh.mesh.vertices, wire_mesh.mesh.faces)"
   ]
  },
  {
   "cell_type": "code",
   "execution_count": 10,
   "id": "042bd1c1",
   "metadata": {},
   "outputs": [
    {
     "data": {
      "text/plain": [
       "True"
      ]
     },
     "execution_count": 10,
     "metadata": {},
     "output_type": "execute_result"
    }
   ],
   "source": [
    "mesh_1.is_closed()"
   ]
  }
 ],
 "metadata": {
  "kernelspec": {
   "display_name": "Python 3",
   "language": "python",
   "name": "python3"
  },
  "language_info": {
   "codemirror_mode": {
    "name": "ipython",
    "version": 3
   },
   "file_extension": ".py",
   "mimetype": "text/x-python",
   "name": "python",
   "nbconvert_exporter": "python",
   "pygments_lexer": "ipython3",
   "version": "3.9.6"
  }
 },
 "nbformat": 4,
 "nbformat_minor": 5
}
